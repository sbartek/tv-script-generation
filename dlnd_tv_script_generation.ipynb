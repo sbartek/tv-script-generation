{
 "cells": [
  {
   "cell_type": "markdown",
   "metadata": {},
   "source": [
    "# TV Script Generation\n",
    "In this project, you'll generate your own [Simpsons](https://en.wikipedia.org/wiki/The_Simpsons) TV scripts using RNNs.  You'll be using part of the [Simpsons dataset](https://www.kaggle.com/wcukierski/the-simpsons-by-the-data) of scripts from 27 seasons.  The Neural Network you'll build will generate a new TV script for a scene at [Moe's Tavern](https://simpsonswiki.com/wiki/Moe's_Tavern).\n",
    "## Get the Data\n",
    "The data is already provided for you.  You'll be using a subset of the original dataset.  It consists of only the scenes in Moe's Tavern.  This doesn't include other versions of the tavern, like \"Moe's Cavern\", \"Flaming Moe's\", \"Uncle Moe's Family Feed-Bag\", etc.."
   ]
  },
  {
   "cell_type": "code",
   "execution_count": 1,
   "metadata": {
    "collapsed": true
   },
   "outputs": [],
   "source": [
    "\"\"\"\n",
    "DON'T MODIFY ANYTHING IN THIS CELL\n",
    "\"\"\"\n",
    "import helper\n",
    "\n",
    "data_dir = './data/simpsons/moes_tavern_lines.txt'\n",
    "text = helper.load_data(data_dir)\n",
    "# Ignore notice, since we don't use it for analysing the data\n",
    "text = text[81:]"
   ]
  },
  {
   "cell_type": "markdown",
   "metadata": {},
   "source": [
    "## Explore the Data\n",
    "Play around with `view_sentence_range` to view different parts of the data."
   ]
  },
  {
   "cell_type": "code",
   "execution_count": 2,
   "metadata": {},
   "outputs": [
    {
     "name": "stdout",
     "output_type": "stream",
     "text": [
      "Dataset Stats\n",
      "Roughly the number of unique words: 11492\n",
      "Number of scenes: 262\n",
      "Average number of sentences in each scene: 15.248091603053435\n",
      "Number of lines: 4257\n",
      "Average number of words in each line: 11.50434578341555\n",
      "\n",
      "The sentences 0 to 10:\n",
      "Moe_Szyslak: (INTO PHONE) Moe's Tavern. Where the elite meet to drink.\n",
      "Bart_Simpson: Eh, yeah, hello, is Mike there? Last name, Rotch.\n",
      "Moe_Szyslak: (INTO PHONE) Hold on, I'll check. (TO BARFLIES) Mike Rotch. Mike Rotch. Hey, has anybody seen Mike Rotch, lately?\n",
      "Moe_Szyslak: (INTO PHONE) Listen you little puke. One of these days I'm gonna catch you, and I'm gonna carve my name on your back with an ice pick.\n",
      "Moe_Szyslak: What's the matter Homer? You're not your normal effervescent self.\n",
      "Homer_Simpson: I got my problems, Moe. Give me another one.\n",
      "Moe_Szyslak: Homer, hey, you should not drink to forget your problems.\n",
      "Barney_Gumble: Yeah, you should only drink to enhance your social skills.\n",
      "\n",
      "\n"
     ]
    }
   ],
   "source": [
    "view_sentence_range = (0, 10)\n",
    "\n",
    "\"\"\"\n",
    "DON'T MODIFY ANYTHING IN THIS CELL\n",
    "\"\"\"\n",
    "import numpy as np\n",
    "\n",
    "print('Dataset Stats')\n",
    "print('Roughly the number of unique words: {}'.format(len({word: None for word in text.split()})))\n",
    "scenes = text.split('\\n\\n')\n",
    "print('Number of scenes: {}'.format(len(scenes)))\n",
    "sentence_count_scene = [scene.count('\\n') for scene in scenes]\n",
    "print('Average number of sentences in each scene: {}'.format(np.average(sentence_count_scene)))\n",
    "\n",
    "sentences = [sentence for scene in scenes for sentence in scene.split('\\n')]\n",
    "print('Number of lines: {}'.format(len(sentences)))\n",
    "word_count_sentence = [len(sentence.split()) for sentence in sentences]\n",
    "print('Average number of words in each line: {}'.format(np.average(word_count_sentence)))\n",
    "\n",
    "print()\n",
    "print('The sentences {} to {}:'.format(*view_sentence_range))\n",
    "print('\\n'.join(text.split('\\n')[view_sentence_range[0]:view_sentence_range[1]]))"
   ]
  },
  {
   "cell_type": "markdown",
   "metadata": {},
   "source": [
    "## Implement Preprocessing Functions\n",
    "The first thing to do to any dataset is preprocessing.  Implement the following preprocessing functions below:\n",
    "- Lookup Table\n",
    "- Tokenize Punctuation\n",
    "\n",
    "### Lookup Table\n",
    "To create a word embedding, you first need to transform the words to ids.  In this function, create two dictionaries:\n",
    "- Dictionary to go from the words to an id, we'll call `vocab_to_int`\n",
    "- Dictionary to go from the id to word, we'll call `int_to_vocab`\n",
    "\n",
    "Return these dictionaries in the following tuple `(vocab_to_int, int_to_vocab)`"
   ]
  },
  {
   "cell_type": "code",
   "execution_count": 3,
   "metadata": {},
   "outputs": [
    {
     "data": {
      "text/plain": [
       "({'a': 0, 'b': 1}, {0: 'a', 1: 'b'})"
      ]
     },
     "execution_count": 3,
     "metadata": {},
     "output_type": "execute_result"
    }
   ],
   "source": [
    "import numpy as np\n",
    "import problem_unittests as tests\n",
    "\n",
    "def create_lookup_tables(text):\n",
    "    \"\"\"\n",
    "    Create lookup tables for vocabulary\n",
    "    :param text: The text of tv scripts split into words\n",
    "    :return: A tuple of dicts (vocab_to_int, int_to_vocab)\n",
    "    \"\"\"\n",
    "    vocab = []\n",
    "    for word in text:\n",
    "        if not (word in vocab):\n",
    "            vocab.append(word)\n",
    "    n_words = len(vocab)\n",
    "    return {vocab[i]:i for i in range(n_words)}, {i:vocab[i] for i in range(n_words)}\n",
    "\n",
    "create_lookup_tables(['a', 'b', 'a'])"
   ]
  },
  {
   "cell_type": "code",
   "execution_count": 4,
   "metadata": {},
   "outputs": [
    {
     "name": "stdout",
     "output_type": "stream",
     "text": [
      "Tests Passed\n"
     ]
    }
   ],
   "source": [
    "\"\"\"\n",
    "DON'T MODIFY ANYTHING IN THIS CELL THAT IS BELOW THIS LINE\n",
    "\"\"\"\n",
    "tests.test_create_lookup_tables(create_lookup_tables)"
   ]
  },
  {
   "cell_type": "markdown",
   "metadata": {},
   "source": [
    "### Tokenize Punctuation\n",
    "We'll be splitting the script into a word array using spaces as delimiters.  However, punctuations like periods and exclamation marks make it hard for the neural network to distinguish between the word \"bye\" and \"bye!\".\n",
    "\n",
    "Implement the function `token_lookup` to return a dict that will be used to tokenize symbols like \"!\" into \"||Exclamation_Mark||\".  Create a dictionary for the following symbols where the symbol is the key and value is the token:\n",
    "- Period ( . )\n",
    "- Comma ( , )\n",
    "- Quotation Mark ( \" )\n",
    "- Semicolon ( ; )\n",
    "- Exclamation mark ( ! )\n",
    "- Question mark ( ? )\n",
    "- Left Parentheses ( ( )\n",
    "- Right Parentheses ( ) )\n",
    "- Dash ( -- )\n",
    "- Return ( \\n )\n",
    "\n",
    "This dictionary will be used to token the symbols and add the delimiter (space) around it.  This separates the symbols as it's own word, making it easier for the neural network to predict on the next word. Make sure you don't use a token that could be confused as a word. Instead of using the token \"dash\", try using something like \"||dash||\"."
   ]
  },
  {
   "cell_type": "code",
   "execution_count": 5,
   "metadata": {},
   "outputs": [
    {
     "name": "stdout",
     "output_type": "stream",
     "text": [
      "Tests Passed\n"
     ]
    }
   ],
   "source": [
    "def token_lookup():\n",
    "    \"\"\"\n",
    "    Generate a dict to turn punctuation into a token.\n",
    "    :return: Tokenize dictionary where the key is the punctuation and the value is the token\n",
    "    \"\"\"\n",
    "    # TODO: Implement Function\n",
    "    return {\n",
    "        '.' : '||Period||', \n",
    "        ',' : '||Comma||', \n",
    "        '\"' : '||QuotationMark||', \n",
    "        ';' : '||Semicolon||',\n",
    "        '!' : '||ExclamationMark||',\n",
    "        '?' : '||QuestionMark||',\n",
    "        '(' : '||LeftParentheses||',\n",
    "        ')' : '||RightParentheses||',\n",
    "        '--': '||Dash||',\n",
    "        '\\n': '||Return||'}\n",
    "\n",
    "\"\"\"\n",
    "DON'T MODIFY ANYTHING IN THIS CELL THAT IS BELOW THIS LINE\n",
    "\"\"\"\n",
    "tests.test_tokenize(token_lookup)"
   ]
  },
  {
   "cell_type": "markdown",
   "metadata": {},
   "source": [
    "## Preprocess all the data and save it\n",
    "Running the code cell below will preprocess all the data and save it to file."
   ]
  },
  {
   "cell_type": "code",
   "execution_count": 6,
   "metadata": {
    "collapsed": true
   },
   "outputs": [],
   "source": [
    "\"\"\"\n",
    "DON'T MODIFY ANYTHING IN THIS CELL\n",
    "\"\"\"\n",
    "# Preprocess Training, Validation, and Testing Data\n",
    "helper.preprocess_and_save_data(data_dir, token_lookup, create_lookup_tables)"
   ]
  },
  {
   "cell_type": "markdown",
   "metadata": {},
   "source": [
    "# Check Point\n",
    "This is your first checkpoint. If you ever decide to come back to this notebook or have to restart the notebook, you can start from here. The preprocessed data has been saved to disk."
   ]
  },
  {
   "cell_type": "code",
   "execution_count": 42,
   "metadata": {
    "collapsed": true
   },
   "outputs": [],
   "source": [
    "\"\"\"\n",
    "DON'T MODIFY ANYTHING IN THIS CELL\n",
    "\"\"\"\n",
    "import helper\n",
    "import numpy as np\n",
    "import problem_unittests as tests\n",
    "\n",
    "int_text, vocab_to_int, int_to_vocab, token_dict = helper.load_preprocess()"
   ]
  },
  {
   "cell_type": "code",
   "execution_count": 43,
   "metadata": {},
   "outputs": [
    {
     "data": {
      "text/plain": [
       "69100"
      ]
     },
     "execution_count": 43,
     "metadata": {},
     "output_type": "execute_result"
    }
   ],
   "source": [
    "len(int_text)"
   ]
  },
  {
   "cell_type": "code",
   "execution_count": 49,
   "metadata": {},
   "outputs": [
    {
     "data": {
      "text/plain": [
       "[0, 1, 2, 3, 4, 5, 6, 7, 8, 9, 10, 11, 12, 13, 7, 14, 15, 16, 17, 18]"
      ]
     },
     "execution_count": 49,
     "metadata": {},
     "output_type": "execute_result"
    }
   ],
   "source": [
    "int_text[:20]"
   ]
  },
  {
   "cell_type": "markdown",
   "metadata": {},
   "source": [
    "## Build the Neural Network\n",
    "You'll build the components necessary to build a RNN by implementing the following functions below:\n",
    "- get_inputs\n",
    "- get_init_cell\n",
    "- get_embed\n",
    "- build_rnn\n",
    "- build_nn\n",
    "- get_batches\n",
    "\n",
    "### Check the Version of TensorFlow and Access to GPU"
   ]
  },
  {
   "cell_type": "code",
   "execution_count": 8,
   "metadata": {},
   "outputs": [
    {
     "name": "stdout",
     "output_type": "stream",
     "text": [
      "TensorFlow Version: 1.0.0\n"
     ]
    },
    {
     "name": "stderr",
     "output_type": "stream",
     "text": [
      "/Users/bartekskorulski/Envs/tf1.0/lib/python3.6/site-packages/ipykernel_launcher.py:14: UserWarning: No GPU found. Please use a GPU to train your neural network.\n",
      "  \n"
     ]
    }
   ],
   "source": [
    "\"\"\"\n",
    "DON'T MODIFY ANYTHING IN THIS CELL\n",
    "\"\"\"\n",
    "from distutils.version import LooseVersion\n",
    "import warnings\n",
    "import tensorflow as tf\n",
    "\n",
    "# Check TensorFlow Version\n",
    "assert LooseVersion(tf.__version__) >= LooseVersion('1.0'), 'Please use TensorFlow version 1.0 or newer'\n",
    "print('TensorFlow Version: {}'.format(tf.__version__))\n",
    "\n",
    "# Check for a GPU\n",
    "if not tf.test.gpu_device_name():\n",
    "    warnings.warn('No GPU found. Please use a GPU to train your neural network.')\n",
    "else:\n",
    "    print('Default GPU Device: {}'.format(tf.test.gpu_device_name()))"
   ]
  },
  {
   "cell_type": "markdown",
   "metadata": {},
   "source": [
    "### Input\n",
    "Implement the `get_inputs()` function to create TF Placeholders for the Neural Network.  It should create the following placeholders:\n",
    "- Input text placeholder named \"input\" using the [TF Placeholder](https://www.tensorflow.org/api_docs/python/tf/placeholder) `name` parameter.\n",
    "- Targets placeholder\n",
    "- Learning Rate placeholder\n",
    "\n",
    "Return the placeholders in the following tuple `(Input, Targets, LearningRate)`"
   ]
  },
  {
   "cell_type": "code",
   "execution_count": 30,
   "metadata": {},
   "outputs": [
    {
     "name": "stdout",
     "output_type": "stream",
     "text": [
      "Tests Passed\n"
     ]
    }
   ],
   "source": [
    "def get_inputs():\n",
    "    \"\"\"\n",
    "    Create TF Placeholders for input, targets, and learning rate.\n",
    "    :return: Tuple (input, targets, learning rate)\n",
    "    \"\"\"\n",
    "    # TODO: Implement Function\n",
    "    inputs = tf.placeholder(tf.int32, [None, None], name='input')\n",
    "    target = tf.placeholder(tf.int32, [None, None])\n",
    "    learning_rate = tf.placeholder(tf.float32)\n",
    "    return inputs, target, learning_rate\n",
    "\n",
    "\n",
    "\"\"\"\n",
    "DON'T MODIFY ANYTHING IN THIS CELL THAT IS BELOW THIS LINE\n",
    "\"\"\"\n",
    "tests.test_get_inputs(get_inputs)"
   ]
  },
  {
   "cell_type": "markdown",
   "metadata": {},
   "source": [
    "### Build RNN Cell and Initialize\n",
    "Stack one or more [`BasicLSTMCells`](https://www.tensorflow.org/api_docs/python/tf/contrib/rnn/BasicLSTMCell) in a [`MultiRNNCell`](https://www.tensorflow.org/api_docs/python/tf/contrib/rnn/MultiRNNCell).\n",
    "- The Rnn size should be set using `rnn_size`\n",
    "- Initalize Cell State using the MultiRNNCell's [`zero_state()`](https://www.tensorflow.org/api_docs/python/tf/contrib/rnn/MultiRNNCell#zero_state) function\n",
    "    - Apply the name \"initial_state\" to the initial state using [`tf.identity()`](https://www.tensorflow.org/api_docs/python/tf/identity)\n",
    "\n",
    "Return the cell and initial state in the following tuple `(Cell, InitialState)`"
   ]
  },
  {
   "cell_type": "code",
   "execution_count": 167,
   "metadata": {},
   "outputs": [
    {
     "name": "stdout",
     "output_type": "stream",
     "text": [
      "Tests Passed\n"
     ]
    }
   ],
   "source": [
    "LSTM_LAYERS = 2\n",
    "\n",
    "def get_init_cell(batch_size, rnn_size):\n",
    "    \"\"\"\n",
    "    Create an RNN Cell and initialize it.\n",
    "    :param batch_size: Size of batches\n",
    "    :param rnn_size: Size of RNNs\n",
    "    :return: Tuple (cell, initialize state)\n",
    "    \"\"\"\n",
    "    \n",
    "    lstm = tf.contrib.rnn.BasicLSTMCell(rnn_size)\n",
    "    stacked_lstm_cell = tf.contrib.rnn.MultiRNNCell([lstm] * LSTM_LAYERS)\n",
    "    initial_state = tf.identity(stacked_lstm_cell.zero_state(batch_size, tf.float32), name = 'initial_state')\n",
    "    return stacked_lstm_cell, initial_state\n",
    "\n",
    "\n",
    "\"\"\"\n",
    "DON'T MODIFY ANYTHING IN THIS CELL THAT IS BELOW THIS LINE\n",
    "\"\"\"\n",
    "tests.test_get_init_cell(get_init_cell)"
   ]
  },
  {
   "cell_type": "markdown",
   "metadata": {},
   "source": [
    "### Word Embedding\n",
    "Apply embedding to `input_data` using TensorFlow.  Return the embedded sequence."
   ]
  },
  {
   "cell_type": "code",
   "execution_count": 168,
   "metadata": {},
   "outputs": [
    {
     "name": "stdout",
     "output_type": "stream",
     "text": [
      "Tests Passed\n"
     ]
    }
   ],
   "source": [
    "def get_embed(input_data, vocab_size, embed_dim):\n",
    "    \"\"\"\n",
    "    Create embedding for <input_data>.\n",
    "    :param input_data: TF placeholder for text input.\n",
    "    :param vocab_size: Number of words in vocabulary.\n",
    "    :param embed_dim: Number of embedding dimensions\n",
    "    :return: Embedded input.\n",
    "    \"\"\"\n",
    "    # TODO: Implement Function\n",
    "    embedding = tf.Variable(tf.random_uniform((vocab_size, embed_dim), -1, 1))\n",
    "    embed = tf.nn.embedding_lookup(embedding, input_data)\n",
    "    return embed\n",
    "\n",
    "\n",
    "\"\"\"\n",
    "DON'T MODIFY ANYTHING IN THIS CELL THAT IS BELOW THIS LINE\n",
    "\"\"\"\n",
    "tests.test_get_embed(get_embed)"
   ]
  },
  {
   "cell_type": "markdown",
   "metadata": {},
   "source": [
    "### Build RNN\n",
    "You created a RNN Cell in the `get_init_cell()` function.  Time to use the cell to create a RNN.\n",
    "- Build the RNN using the [`tf.nn.dynamic_rnn()`](https://www.tensorflow.org/api_docs/python/tf/nn/dynamic_rnn)\n",
    " - Apply the name \"final_state\" to the final state using [`tf.identity()`](https://www.tensorflow.org/api_docs/python/tf/identity)\n",
    "\n",
    "Return the outputs and final_state state in the following tuple `(Outputs, FinalState)` "
   ]
  },
  {
   "cell_type": "code",
   "execution_count": 169,
   "metadata": {},
   "outputs": [
    {
     "name": "stdout",
     "output_type": "stream",
     "text": [
      "Tests Passed\n"
     ]
    }
   ],
   "source": [
    "def build_rnn(cell, inputs):\n",
    "    \"\"\"\n",
    "    Create a RNN using a RNN Cell\n",
    "    :param cell: RNN Cell\n",
    "    :param inputs: Input text data\n",
    "    :return: Tuple (Outputs, Final State)\n",
    "    \"\"\"\n",
    "    # TODO: Implement Function\n",
    "    outputs, state = tf.nn.dynamic_rnn(cell, inputs=inputs, dtype=tf.float32)\n",
    "    final_state = tf.identity(state, name=\"final_state\")\n",
    "    return outputs, final_state\n",
    "\n",
    "\n",
    "\"\"\"\n",
    "DON'T MODIFY ANYTHING IN THIS CELL THAT IS BELOW THIS LINE\n",
    "\"\"\"\n",
    "tests.test_build_rnn(build_rnn)"
   ]
  },
  {
   "cell_type": "markdown",
   "metadata": {},
   "source": [
    "### Build the Neural Network\n",
    "Apply the functions you implemented above to:\n",
    "- Apply embedding to `input_data` using your `get_embed(input_data, vocab_size, embed_dim)` function.\n",
    "- Build RNN using `cell` and your `build_rnn(cell, inputs)` function.\n",
    "- Apply a fully connected layer with a linear activation and `vocab_size` as the number of outputs.\n",
    "\n",
    "Return the logits and final state in the following tuple (Logits, FinalState) "
   ]
  },
  {
   "cell_type": "code",
   "execution_count": 170,
   "metadata": {},
   "outputs": [
    {
     "name": "stdout",
     "output_type": "stream",
     "text": [
      "Tests Passed\n"
     ]
    }
   ],
   "source": [
    "def build_nn(cell, rnn_size, input_data, vocab_size, embed_dim):\n",
    "    \"\"\"\n",
    "    Build part of the neural network\n",
    "    :param cell: RNN cell\n",
    "    :param rnn_size: Size of rnns\n",
    "    :param input_data: Input data\n",
    "    :param vocab_size: Vocabulary size\n",
    "    :param embed_dim: Number of embedding dimensions\n",
    "    :return: Tuple (Logits, FinalState)\n",
    "    \"\"\"\n",
    "    embed = get_embed(input_data, vocab_size, embed_dim) \n",
    "    outputs, final_state = build_rnn(cell, embed)\n",
    "    output_rnn = outputs[-1]\n",
    "    fc_out = tf.contrib.layers.fully_connected(outputs, vocab_size, activation_fn = None)\n",
    "    return fc_out, final_state\n",
    "\n",
    "\n",
    "\"\"\"\n",
    "DON'T MODIFY ANYTHING IN THIS CELL THAT IS BELOW THIS LINE\n",
    "\"\"\"\n",
    "tests.test_build_nn(build_nn)"
   ]
  },
  {
   "cell_type": "markdown",
   "metadata": {},
   "source": [
    "### Batches\n",
    "Implement `get_batches` to create batches of input and targets using `int_text`.  The batches should be a Numpy array with the shape `(number of batches, 2, batch size, sequence length)`. Each batch contains two elements:\n",
    "- The first element is a single batch of **input** with the shape `[batch size, sequence length]`\n",
    "- The second element is a single batch of **targets** with the shape `[batch size, sequence length]`\n",
    "\n",
    "If you can't fill the last batch with enough data, drop the last batch.\n",
    "\n",
    "For exmple, `get_batches([1, 2, 3, 4, 5, 6, 7, 8, 9, 10, 11, 12, 13, 14, 15, 16, 17, 18, 19, 20], 3, 2)` would return a Numpy array of the following:\n",
    "```\n",
    "[\n",
    "  # First Batch\n",
    "  [\n",
    "    # Batch of Input\n",
    "    [[ 1  2], [ 7  8], [13 14]]\n",
    "    # Batch of targets\n",
    "    [[ 2  3], [ 8  9], [14 15]]\n",
    "  ]\n",
    "\n",
    "  # Second Batch\n",
    "  [\n",
    "    # Batch of Input\n",
    "    [[ 3  4], [ 9 10], [15 16]]\n",
    "    # Batch of targets\n",
    "    [[ 4  5], [10 11], [16 17]]\n",
    "  ]\n",
    "\n",
    "  # Third Batch\n",
    "  [\n",
    "    # Batch of Input\n",
    "    [[ 5  6], [11 12], [17 18]]\n",
    "    # Batch of targets\n",
    "    [[ 6  7], [12 13], [18  1]]\n",
    "  ]\n",
    "]\n",
    "```\n",
    "\n",
    "Notice that the last target value in the last batch is the first input value of the first batch. In this case, `1`. This is a common technique used when creating sequence batches, although it is rather unintuitive."
   ]
  },
  {
   "cell_type": "code",
   "execution_count": 171,
   "metadata": {},
   "outputs": [
    {
     "data": {
      "text/plain": [
       "array([[[[ 1,  2],\n",
       "         [ 9, 10],\n",
       "         [17, 18]],\n",
       "\n",
       "        [[ 2,  3],\n",
       "         [10, 11],\n",
       "         [18, 19]]],\n",
       "\n",
       "\n",
       "       [[[ 3,  4],\n",
       "         [11, 12],\n",
       "         [19, 20]],\n",
       "\n",
       "        [[ 4,  5],\n",
       "         [12, 13],\n",
       "         [20, 21]]],\n",
       "\n",
       "\n",
       "       [[[ 5,  6],\n",
       "         [13, 14],\n",
       "         [21, 22]],\n",
       "\n",
       "        [[ 6,  7],\n",
       "         [14, 15],\n",
       "         [22, 23]]],\n",
       "\n",
       "\n",
       "       [[[ 7,  8],\n",
       "         [15, 16],\n",
       "         [23, 24]],\n",
       "\n",
       "        [[ 8,  9],\n",
       "         [16, 17],\n",
       "         [24,  1]]]])"
      ]
     },
     "execution_count": 171,
     "metadata": {},
     "output_type": "execute_result"
    }
   ],
   "source": [
    "def get_batches(int_text, batch_size, seq_length):\n",
    "    \"\"\"\n",
    "    Return batches of input and target\n",
    "    :param int_text: Text with the words replaced by their ids\n",
    "    :param batch_size: The size of batch\n",
    "    :param seq_length: The length of sequence\n",
    "    :return: Batches as a Numpy array\n",
    "    \"\"\"\n",
    "    n_words = len(int_text)\n",
    "    batch_len = batch_size * seq_length\n",
    "    n_batches = n_words//batch_len\n",
    "    x = int_text[ : n_batches * batch_len]\n",
    "    y = x[1:] + [x[0]]\n",
    "    x = np.reshape(x, (batch_size, -1))\n",
    "    y = np.reshape(y, (batch_size, -1))\n",
    "    batches = []\n",
    "    for i in range(n_batches):\n",
    "        batches.append([\n",
    "            x[:, i*seq_length:(i+1)*seq_length],\n",
    "            y[:, i*seq_length:(i+1)*seq_length]\n",
    "        ])\n",
    "    return np.array(batches)\n",
    "           \n",
    "get_batches([1, 2, 3, 4, 5, 6, 7, 8, 9, 10, 11, 12, 13, 14, 15, 16, 17, 18, 19, 20, 21, 22, 23, 24, 25, 26], 3, 2)"
   ]
  },
  {
   "cell_type": "code",
   "execution_count": 172,
   "metadata": {},
   "outputs": [
    {
     "name": "stdout",
     "output_type": "stream",
     "text": [
      "Tests Passed\n"
     ]
    }
   ],
   "source": [
    "\"\"\"\n",
    "DON'T MODIFY ANYTHING IN THIS CELL THAT IS BELOW THIS LINE\n",
    "\"\"\"\n",
    "tests.test_get_batches(get_batches)"
   ]
  },
  {
   "cell_type": "markdown",
   "metadata": {},
   "source": [
    "## Neural Network Training\n",
    "### Hyperparameters\n",
    "Tune the following parameters:\n",
    "\n",
    "- Set `num_epochs` to the number of epochs.\n",
    "- Set `batch_size` to the batch size.\n",
    "- Set `rnn_size` to the size of the RNNs.\n",
    "- Set `embed_dim` to the size of the embedding.\n",
    "- Set `seq_length` to the length of sequence.\n",
    "- Set `learning_rate` to the learning rate.\n",
    "- Set `show_every_n_batches` to the number of batches the neural network should print progress."
   ]
  },
  {
   "cell_type": "code",
   "execution_count": 178,
   "metadata": {
    "collapsed": true
   },
   "outputs": [],
   "source": [
    "# Number of Epochs\n",
    "num_epochs = 100\n",
    "# Batch Size\n",
    "batch_size = 32\n",
    "# RNN Size\n",
    "rnn_size = 256\n",
    "# Embedding Dimension Size\n",
    "embed_dim = 200\n",
    "# Sequence Length\n",
    "seq_length = 128\n",
    "# Learning Rate\n",
    "learning_rate = 0.01\n",
    "# Show stats for every n number of batches\n",
    "show_every_n_batches = 256//batch_size\n",
    "\n",
    "\"\"\"\n",
    "DON'T MODIFY ANYTHING IN THIS CELL THAT IS BELOW THIS LINE\n",
    "\"\"\"\n",
    "save_dir = './save'"
   ]
  },
  {
   "cell_type": "code",
   "execution_count": 179,
   "metadata": {},
   "outputs": [
    {
     "data": {
      "text/plain": [
       "8"
      ]
     },
     "execution_count": 179,
     "metadata": {},
     "output_type": "execute_result"
    }
   ],
   "source": [
    "show_every_n_batches"
   ]
  },
  {
   "cell_type": "markdown",
   "metadata": {},
   "source": [
    "### Build the Graph\n",
    "Build the graph using the neural network you implemented."
   ]
  },
  {
   "cell_type": "code",
   "execution_count": 180,
   "metadata": {
    "collapsed": true
   },
   "outputs": [],
   "source": [
    "\"\"\"\n",
    "DON'T MODIFY ANYTHING IN THIS CELL\n",
    "\"\"\"\n",
    "from tensorflow.contrib import seq2seq\n",
    "\n",
    "train_graph = tf.Graph()\n",
    "with train_graph.as_default():\n",
    "    vocab_size = len(int_to_vocab)\n",
    "    input_text, targets, lr = get_inputs()\n",
    "    input_data_shape = tf.shape(input_text)\n",
    "    cell, initial_state = get_init_cell(input_data_shape[0], rnn_size)\n",
    "    logits, final_state = build_nn(cell, rnn_size, input_text, vocab_size, embed_dim)\n",
    "\n",
    "    # Probabilities for generating words\n",
    "    probs = tf.nn.softmax(logits, name='probs')\n",
    "\n",
    "    # Loss function\n",
    "    cost = seq2seq.sequence_loss(\n",
    "        logits,\n",
    "        targets,\n",
    "        tf.ones([input_data_shape[0], input_data_shape[1]]))\n",
    "\n",
    "    # Optimizer\n",
    "    optimizer = tf.train.AdamOptimizer(lr)\n",
    "\n",
    "    # Gradient Clipping\n",
    "    gradients = optimizer.compute_gradients(cost)\n",
    "    capped_gradients = [(tf.clip_by_value(grad, -1., 1.), var) for grad, var in gradients if grad is not None]\n",
    "    train_op = optimizer.apply_gradients(capped_gradients)"
   ]
  },
  {
   "cell_type": "markdown",
   "metadata": {},
   "source": [
    "## Train\n",
    "Train the neural network on the preprocessed data.  If you have a hard time getting a good loss, check the [forms](https://discussions.udacity.com/) to see if anyone is having the same problem."
   ]
  },
  {
   "cell_type": "code",
   "execution_count": 181,
   "metadata": {},
   "outputs": [
    {
     "name": "stdout",
     "output_type": "stream",
     "text": [
      "Epoch   0 Batch    0/16   train_loss = 8.823\n",
      "Epoch   0 Batch    8/16   train_loss = 6.560\n",
      "Epoch   1 Batch    0/16   train_loss = 6.464\n",
      "Epoch   1 Batch    8/16   train_loss = 6.045\n",
      "Epoch   2 Batch    0/16   train_loss = 6.144\n",
      "Epoch   2 Batch    8/16   train_loss = 6.128\n",
      "Epoch   3 Batch    0/16   train_loss = 6.046\n",
      "Epoch   3 Batch    8/16   train_loss = 6.025\n",
      "Epoch   4 Batch    0/16   train_loss = 6.078\n",
      "Epoch   4 Batch    8/16   train_loss = 6.057\n",
      "Epoch   5 Batch    0/16   train_loss = 6.049\n",
      "Epoch   5 Batch    8/16   train_loss = 6.053\n",
      "Epoch   6 Batch    0/16   train_loss = 6.014\n",
      "Epoch   6 Batch    8/16   train_loss = 5.970\n",
      "Epoch   7 Batch    0/16   train_loss = 5.957\n",
      "Epoch   7 Batch    8/16   train_loss = 5.894\n",
      "Epoch   8 Batch    0/16   train_loss = 5.843\n",
      "Epoch   8 Batch    8/16   train_loss = 5.789\n",
      "Epoch   9 Batch    0/16   train_loss = 5.771\n",
      "Epoch   9 Batch    8/16   train_loss = 5.736\n",
      "Epoch  10 Batch    0/16   train_loss = 5.674\n",
      "Epoch  10 Batch    8/16   train_loss = 5.631\n",
      "Epoch  11 Batch    0/16   train_loss = 5.576\n",
      "Epoch  11 Batch    8/16   train_loss = 5.540\n",
      "Epoch  12 Batch    0/16   train_loss = 5.451\n",
      "Epoch  12 Batch    8/16   train_loss = 5.450\n",
      "Epoch  13 Batch    0/16   train_loss = 5.407\n",
      "Epoch  13 Batch    8/16   train_loss = 5.354\n",
      "Epoch  14 Batch    0/16   train_loss = 5.300\n",
      "Epoch  14 Batch    8/16   train_loss = 5.257\n",
      "Epoch  15 Batch    0/16   train_loss = 5.185\n",
      "Epoch  15 Batch    8/16   train_loss = 5.084\n",
      "Epoch  16 Batch    0/16   train_loss = 5.153\n",
      "Epoch  16 Batch    8/16   train_loss = 5.128\n",
      "Epoch  17 Batch    0/16   train_loss = 5.066\n",
      "Epoch  17 Batch    8/16   train_loss = 5.049\n",
      "Epoch  18 Batch    0/16   train_loss = 4.948\n",
      "Epoch  18 Batch    8/16   train_loss = 4.898\n",
      "Epoch  19 Batch    0/16   train_loss = 4.902\n",
      "Epoch  19 Batch    8/16   train_loss = 4.796\n",
      "Epoch  20 Batch    0/16   train_loss = 4.745\n",
      "Epoch  20 Batch    8/16   train_loss = 4.739\n",
      "Epoch  21 Batch    0/16   train_loss = 4.652\n",
      "Epoch  21 Batch    8/16   train_loss = 4.522\n",
      "Epoch  22 Batch    0/16   train_loss = 4.460\n",
      "Epoch  22 Batch    8/16   train_loss = 4.398\n",
      "Epoch  23 Batch    0/16   train_loss = 4.347\n",
      "Epoch  23 Batch    8/16   train_loss = 4.276\n",
      "Epoch  24 Batch    0/16   train_loss = 4.232\n",
      "Epoch  24 Batch    8/16   train_loss = 4.125\n",
      "Epoch  25 Batch    0/16   train_loss = 4.124\n",
      "Epoch  25 Batch    8/16   train_loss = 4.008\n",
      "Epoch  26 Batch    0/16   train_loss = 4.025\n",
      "Epoch  26 Batch    8/16   train_loss = 3.921\n",
      "Epoch  27 Batch    0/16   train_loss = 3.915\n",
      "Epoch  27 Batch    8/16   train_loss = 3.773\n",
      "Epoch  28 Batch    0/16   train_loss = 3.800\n",
      "Epoch  28 Batch    8/16   train_loss = 3.669\n",
      "Epoch  29 Batch    0/16   train_loss = 3.655\n",
      "Epoch  29 Batch    8/16   train_loss = 3.530\n",
      "Epoch  30 Batch    0/16   train_loss = 3.527\n",
      "Epoch  30 Batch    8/16   train_loss = 3.395\n",
      "Epoch  31 Batch    0/16   train_loss = 3.420\n",
      "Epoch  31 Batch    8/16   train_loss = 3.310\n",
      "Epoch  32 Batch    0/16   train_loss = 3.315\n",
      "Epoch  32 Batch    8/16   train_loss = 3.191\n",
      "Epoch  33 Batch    0/16   train_loss = 3.263\n",
      "Epoch  33 Batch    8/16   train_loss = 3.090\n",
      "Epoch  34 Batch    0/16   train_loss = 3.133\n",
      "Epoch  34 Batch    8/16   train_loss = 2.969\n",
      "Epoch  35 Batch    0/16   train_loss = 3.028\n",
      "Epoch  35 Batch    8/16   train_loss = 2.875\n",
      "Epoch  36 Batch    0/16   train_loss = 2.921\n",
      "Epoch  36 Batch    8/16   train_loss = 2.778\n",
      "Epoch  37 Batch    0/16   train_loss = 2.793\n",
      "Epoch  37 Batch    8/16   train_loss = 2.660\n",
      "Epoch  38 Batch    0/16   train_loss = 2.708\n",
      "Epoch  38 Batch    8/16   train_loss = 2.588\n",
      "Epoch  39 Batch    0/16   train_loss = 2.595\n",
      "Epoch  39 Batch    8/16   train_loss = 2.425\n",
      "Epoch  40 Batch    0/16   train_loss = 2.490\n",
      "Epoch  40 Batch    8/16   train_loss = 2.370\n",
      "Epoch  41 Batch    0/16   train_loss = 2.451\n",
      "Epoch  41 Batch    8/16   train_loss = 2.281\n",
      "Epoch  42 Batch    0/16   train_loss = 2.359\n",
      "Epoch  42 Batch    8/16   train_loss = 2.238\n",
      "Epoch  43 Batch    0/16   train_loss = 2.312\n",
      "Epoch  43 Batch    8/16   train_loss = 2.219\n",
      "Epoch  44 Batch    0/16   train_loss = 2.322\n",
      "Epoch  44 Batch    8/16   train_loss = 2.214\n",
      "Epoch  45 Batch    0/16   train_loss = 2.260\n",
      "Epoch  45 Batch    8/16   train_loss = 2.192\n",
      "Epoch  46 Batch    0/16   train_loss = 2.154\n",
      "Epoch  46 Batch    8/16   train_loss = 2.146\n",
      "Epoch  47 Batch    0/16   train_loss = 2.181\n",
      "Epoch  47 Batch    8/16   train_loss = 2.097\n",
      "Epoch  48 Batch    0/16   train_loss = 2.061\n",
      "Epoch  48 Batch    8/16   train_loss = 1.927\n",
      "Epoch  49 Batch    0/16   train_loss = 1.913\n",
      "Epoch  49 Batch    8/16   train_loss = 1.814\n",
      "Epoch  50 Batch    0/16   train_loss = 1.803\n",
      "Epoch  50 Batch    8/16   train_loss = 1.713\n",
      "Epoch  51 Batch    0/16   train_loss = 1.725\n",
      "Epoch  51 Batch    8/16   train_loss = 1.619\n",
      "Epoch  52 Batch    0/16   train_loss = 1.623\n",
      "Epoch  52 Batch    8/16   train_loss = 1.548\n",
      "Epoch  53 Batch    0/16   train_loss = 1.561\n",
      "Epoch  53 Batch    8/16   train_loss = 1.504\n",
      "Epoch  54 Batch    0/16   train_loss = 1.533\n",
      "Epoch  54 Batch    8/16   train_loss = 1.468\n",
      "Epoch  55 Batch    0/16   train_loss = 1.466\n",
      "Epoch  55 Batch    8/16   train_loss = 1.416\n",
      "Epoch  56 Batch    0/16   train_loss = 1.435\n",
      "Epoch  56 Batch    8/16   train_loss = 1.397\n",
      "Epoch  57 Batch    0/16   train_loss = 1.405\n",
      "Epoch  57 Batch    8/16   train_loss = 1.352\n",
      "Epoch  58 Batch    0/16   train_loss = 1.367\n",
      "Epoch  58 Batch    8/16   train_loss = 1.326\n",
      "Epoch  59 Batch    0/16   train_loss = 1.277\n",
      "Epoch  59 Batch    8/16   train_loss = 1.256\n",
      "Epoch  60 Batch    0/16   train_loss = 1.237\n",
      "Epoch  60 Batch    8/16   train_loss = 1.210\n",
      "Epoch  61 Batch    0/16   train_loss = 1.212\n",
      "Epoch  61 Batch    8/16   train_loss = 1.185\n",
      "Epoch  62 Batch    0/16   train_loss = 1.163\n",
      "Epoch  62 Batch    8/16   train_loss = 1.192\n",
      "Epoch  63 Batch    0/16   train_loss = 1.184\n",
      "Epoch  63 Batch    8/16   train_loss = 1.151\n",
      "Epoch  64 Batch    0/16   train_loss = 1.113\n",
      "Epoch  64 Batch    8/16   train_loss = 1.108\n",
      "Epoch  65 Batch    0/16   train_loss = 1.037\n",
      "Epoch  65 Batch    8/16   train_loss = 1.048\n",
      "Epoch  66 Batch    0/16   train_loss = 1.015\n",
      "Epoch  66 Batch    8/16   train_loss = 1.051\n",
      "Epoch  67 Batch    0/16   train_loss = 1.030\n",
      "Epoch  67 Batch    8/16   train_loss = 1.065\n",
      "Epoch  68 Batch    0/16   train_loss = 1.062\n",
      "Epoch  68 Batch    8/16   train_loss = 1.031\n",
      "Epoch  69 Batch    0/16   train_loss = 1.058\n",
      "Epoch  69 Batch    8/16   train_loss = 1.100\n",
      "Epoch  70 Batch    0/16   train_loss = 1.106\n",
      "Epoch  70 Batch    8/16   train_loss = 1.071\n",
      "Epoch  71 Batch    0/16   train_loss = 1.080\n",
      "Epoch  71 Batch    8/16   train_loss = 1.092\n",
      "Epoch  72 Batch    0/16   train_loss = 1.071\n",
      "Epoch  72 Batch    8/16   train_loss = 1.138\n",
      "Epoch  73 Batch    0/16   train_loss = 1.119\n",
      "Epoch  73 Batch    8/16   train_loss = 1.083\n",
      "Epoch  74 Batch    0/16   train_loss = 1.024\n",
      "Epoch  74 Batch    8/16   train_loss = 0.988\n",
      "Epoch  75 Batch    0/16   train_loss = 0.964\n",
      "Epoch  75 Batch    8/16   train_loss = 0.939\n",
      "Epoch  76 Batch    0/16   train_loss = 0.909\n",
      "Epoch  76 Batch    8/16   train_loss = 0.857\n",
      "Epoch  77 Batch    0/16   train_loss = 0.815\n",
      "Epoch  77 Batch    8/16   train_loss = 0.806\n",
      "Epoch  78 Batch    0/16   train_loss = 0.779\n",
      "Epoch  78 Batch    8/16   train_loss = 0.747\n",
      "Epoch  79 Batch    0/16   train_loss = 0.687\n",
      "Epoch  79 Batch    8/16   train_loss = 0.685\n",
      "Epoch  80 Batch    0/16   train_loss = 0.641\n",
      "Epoch  80 Batch    8/16   train_loss = 0.652\n",
      "Epoch  81 Batch    0/16   train_loss = 0.582\n",
      "Epoch  81 Batch    8/16   train_loss = 0.599\n",
      "Epoch  82 Batch    0/16   train_loss = 0.578\n",
      "Epoch  82 Batch    8/16   train_loss = 0.630\n",
      "Epoch  83 Batch    0/16   train_loss = 0.605\n",
      "Epoch  83 Batch    8/16   train_loss = 0.593\n",
      "Epoch  84 Batch    0/16   train_loss = 0.570\n",
      "Epoch  84 Batch    8/16   train_loss = 0.544\n",
      "Epoch  85 Batch    0/16   train_loss = 0.531\n",
      "Epoch  85 Batch    8/16   train_loss = 0.563\n",
      "Epoch  86 Batch    0/16   train_loss = 0.562\n",
      "Epoch  86 Batch    8/16   train_loss = 0.575\n",
      "Epoch  87 Batch    0/16   train_loss = 0.521\n",
      "Epoch  87 Batch    8/16   train_loss = 0.505\n",
      "Epoch  88 Batch    0/16   train_loss = 0.471\n",
      "Epoch  88 Batch    8/16   train_loss = 0.494\n",
      "Epoch  89 Batch    0/16   train_loss = 0.478\n",
      "Epoch  89 Batch    8/16   train_loss = 0.460\n",
      "Epoch  90 Batch    0/16   train_loss = 0.428\n",
      "Epoch  90 Batch    8/16   train_loss = 0.413\n",
      "Epoch  91 Batch    0/16   train_loss = 0.381\n"
     ]
    },
    {
     "name": "stdout",
     "output_type": "stream",
     "text": [
      "Epoch  91 Batch    8/16   train_loss = 0.387\n",
      "Epoch  92 Batch    0/16   train_loss = 0.373\n",
      "Epoch  92 Batch    8/16   train_loss = 0.366\n",
      "Epoch  93 Batch    0/16   train_loss = 0.337\n",
      "Epoch  93 Batch    8/16   train_loss = 0.337\n",
      "Epoch  94 Batch    0/16   train_loss = 0.319\n",
      "Epoch  94 Batch    8/16   train_loss = 0.337\n",
      "Epoch  95 Batch    0/16   train_loss = 0.318\n",
      "Epoch  95 Batch    8/16   train_loss = 0.320\n",
      "Epoch  96 Batch    0/16   train_loss = 0.299\n",
      "Epoch  96 Batch    8/16   train_loss = 0.286\n",
      "Epoch  97 Batch    0/16   train_loss = 0.281\n",
      "Epoch  97 Batch    8/16   train_loss = 0.278\n",
      "Epoch  98 Batch    0/16   train_loss = 0.274\n",
      "Epoch  98 Batch    8/16   train_loss = 0.294\n",
      "Epoch  99 Batch    0/16   train_loss = 0.291\n",
      "Epoch  99 Batch    8/16   train_loss = 0.311\n",
      "Model Trained and Saved\n"
     ]
    }
   ],
   "source": [
    "\"\"\"\n",
    "DON'T MODIFY ANYTHING IN THIS CELL\n",
    "\"\"\"\n",
    "batches = get_batches(int_text, batch_size, seq_length)\n",
    "\n",
    "with tf.Session(graph=train_graph) as sess:\n",
    "    sess.run(tf.global_variables_initializer())\n",
    "\n",
    "    for epoch_i in range(num_epochs):\n",
    "        state = sess.run(initial_state, {input_text: batches[0][0]})\n",
    "\n",
    "        for batch_i, (x, y) in enumerate(batches):\n",
    "            feed = {\n",
    "                input_text: x,\n",
    "                targets: y,\n",
    "                initial_state: state,\n",
    "                lr: learning_rate}\n",
    "            train_loss, state, _ = sess.run([cost, final_state, train_op], feed)\n",
    "\n",
    "            # Show every <show_every_n_batches> batches\n",
    "            if (epoch_i * len(batches) + batch_i) % show_every_n_batches == 0:\n",
    "                print('Epoch {:>3} Batch {:>4}/{}   train_loss = {:.3f}'.format(\n",
    "                    epoch_i,\n",
    "                    batch_i,\n",
    "                    len(batches),\n",
    "                    train_loss))\n",
    "\n",
    "    # Save Model\n",
    "    saver = tf.train.Saver()\n",
    "    saver.save(sess, save_dir)\n",
    "    print('Model Trained and Saved')"
   ]
  },
  {
   "cell_type": "markdown",
   "metadata": {},
   "source": [
    "## Save Parameters\n",
    "Save `seq_length` and `save_dir` for generating a new TV script."
   ]
  },
  {
   "cell_type": "code",
   "execution_count": 182,
   "metadata": {
    "collapsed": true
   },
   "outputs": [],
   "source": [
    "\"\"\"\n",
    "DON'T MODIFY ANYTHING IN THIS CELL\n",
    "\"\"\"\n",
    "# Save parameters for checkpoint\n",
    "helper.save_params((seq_length, save_dir))"
   ]
  },
  {
   "cell_type": "markdown",
   "metadata": {},
   "source": [
    "# Checkpoint"
   ]
  },
  {
   "cell_type": "code",
   "execution_count": 183,
   "metadata": {
    "collapsed": true
   },
   "outputs": [],
   "source": [
    "\"\"\"\n",
    "DON'T MODIFY ANYTHING IN THIS CELL\n",
    "\"\"\"\n",
    "import tensorflow as tf\n",
    "import numpy as np\n",
    "import helper\n",
    "import problem_unittests as tests\n",
    "\n",
    "_, vocab_to_int, int_to_vocab, token_dict = helper.load_preprocess()\n",
    "seq_length, load_dir = helper.load_params()"
   ]
  },
  {
   "cell_type": "markdown",
   "metadata": {},
   "source": [
    "## Implement Generate Functions\n",
    "### Get Tensors\n",
    "Get tensors from `loaded_graph` using the function [`get_tensor_by_name()`](https://www.tensorflow.org/api_docs/python/tf/Graph#get_tensor_by_name).  Get the tensors using the following names:\n",
    "- \"input:0\"\n",
    "- \"initial_state:0\"\n",
    "- \"final_state:0\"\n",
    "- \"probs:0\"\n",
    "\n",
    "Return the tensors in the following tuple `(InputTensor, InitialStateTensor, FinalStateTensor, ProbsTensor)` "
   ]
  },
  {
   "cell_type": "code",
   "execution_count": 184,
   "metadata": {},
   "outputs": [
    {
     "name": "stdout",
     "output_type": "stream",
     "text": [
      "Tests Passed\n"
     ]
    }
   ],
   "source": [
    "def get_tensors(loaded_graph):\n",
    "    \"\"\"\n",
    "    Get input, initial state, final state, and probabilities tensor from <loaded_graph>\n",
    "    :param loaded_graph: TensorFlow graph loaded from file\n",
    "    :return: Tuple (InputTensor, InitialStateTensor, FinalStateTensor, ProbsTensor)\n",
    "    \"\"\"\n",
    "    # TODO: Implement Function\n",
    "    InputTensor = loaded_graph.get_tensor_by_name(\"input:0\")\n",
    "    InitialStateTensor = loaded_graph.get_tensor_by_name(\"initial_state:0\")\n",
    "    FinalStateTensor = loaded_graph.get_tensor_by_name(\"final_state:0\")\n",
    "    ProbsTensor = loaded_graph.get_tensor_by_name(\"probs:0\")\n",
    "    return InputTensor, InitialStateTensor, FinalStateTensor, ProbsTensor\n",
    "\n",
    "\n",
    "\"\"\"\n",
    "DON'T MODIFY ANYTHING IN THIS CELL THAT IS BELOW THIS LINE\n",
    "\"\"\"\n",
    "tests.test_get_tensors(get_tensors)"
   ]
  },
  {
   "cell_type": "markdown",
   "metadata": {},
   "source": [
    "### Choose Word\n",
    "Implement the `pick_word()` function to select the next word using `probabilities`."
   ]
  },
  {
   "cell_type": "code",
   "execution_count": 185,
   "metadata": {},
   "outputs": [
    {
     "name": "stdout",
     "output_type": "stream",
     "text": [
      "Tests Passed\n"
     ]
    }
   ],
   "source": [
    "def pick_word(probabilities, int_to_vocab):\n",
    "    \"\"\"\n",
    "    Pick the next word in the generated text\n",
    "    :param probabilities: Probabilites of the next word\n",
    "    :param int_to_vocab: Dictionary of word ids as the keys and words as the values\n",
    "    :return: String of the predicted word\n",
    "    \"\"\"\n",
    "    # TODO: Implement Function\n",
    "    i = np.random.choice(range(len(probabilities)), p=probabilities)\n",
    "    return int_to_vocab[i]\n",
    "\n",
    "\n",
    "\"\"\"\n",
    "DON'T MODIFY ANYTHING IN THIS CELL THAT IS BELOW THIS LINE\n",
    "\"\"\"\n",
    "tests.test_pick_word(pick_word)"
   ]
  },
  {
   "cell_type": "markdown",
   "metadata": {},
   "source": [
    "## Generate TV Script\n",
    "This will generate the TV script for you.  Set `gen_length` to the length of TV script you want to generate."
   ]
  },
  {
   "cell_type": "code",
   "execution_count": 186,
   "metadata": {},
   "outputs": [
    {
     "name": "stdout",
     "output_type": "stream",
     "text": [
      "moe_szyslak: goodnight, moon.\n",
      "moe_szyslak: goodnight, broom. good night jukebox that won't play a tune.\n",
      "moe_szyslak: goodnight milk of police.\n",
      "homer_simpson: moe, i was such to the game.(more sobs)\n",
      "moe_szyslak: look, i think? will you see you your name!\n",
      "moe_szyslak:(sings) good people...\n",
      "all:(impressed) ooh, the one from straight?\n",
      "heh. well, i do. no time i do. do is the time he was a couple of\" othello...(sings, same card)\" your kid. / come on, i am two two foot o'clock.\n",
      "moe_szyslak: well, your boy's got magic knock-up back coming with her.\n",
      "lisa_simpson: i, mr. smithers! i wanna get this best friends. i go to the kids...\n",
      "moe_szyslak: well, i'm seen is like this before, homer. you gotta get a little early tomorrow? carl_carlson: you know, barney?\n",
      "moe_szyslak: yeah, you, i can't say.\n",
      "\n"
     ]
    }
   ],
   "source": [
    "gen_length = 200\n",
    "# homer_simpson, moe_szyslak, or Barney_Gumble\n",
    "prime_word = 'moe_szyslak'\n",
    "\n",
    "\"\"\"\n",
    "DON'T MODIFY ANYTHING IN THIS CELL THAT IS BELOW THIS LINE\n",
    "\"\"\"\n",
    "loaded_graph = tf.Graph()\n",
    "with tf.Session(graph=loaded_graph) as sess:\n",
    "    # Load saved model\n",
    "    loader = tf.train.import_meta_graph(load_dir + '.meta')\n",
    "    loader.restore(sess, load_dir)\n",
    "\n",
    "    # Get Tensors from loaded model\n",
    "    input_text, initial_state, final_state, probs = get_tensors(loaded_graph)\n",
    "\n",
    "    # Sentences generation setup\n",
    "    gen_sentences = [prime_word + ':']\n",
    "    prev_state = sess.run(initial_state, {input_text: np.array([[1]])})\n",
    "\n",
    "    # Generate sentences\n",
    "    for n in range(gen_length):\n",
    "        # Dynamic Input\n",
    "        dyn_input = [[vocab_to_int[word] for word in gen_sentences[-seq_length:]]]\n",
    "        dyn_seq_length = len(dyn_input[0])\n",
    "\n",
    "        # Get Prediction\n",
    "        probabilities, prev_state = sess.run(\n",
    "            [probs, final_state],\n",
    "            {input_text: dyn_input, initial_state: prev_state})\n",
    "        \n",
    "        pred_word = pick_word(probabilities[dyn_seq_length-1], int_to_vocab)\n",
    "\n",
    "        gen_sentences.append(pred_word)\n",
    "    \n",
    "    # Remove tokens\n",
    "    tv_script = ' '.join(gen_sentences)\n",
    "    for key, token in token_dict.items():\n",
    "        ending = ' ' if key in ['\\n', '(', '\"'] else ''\n",
    "        tv_script = tv_script.replace(' ' + token.lower(), key)\n",
    "    tv_script = tv_script.replace('\\n ', '\\n')\n",
    "    tv_script = tv_script.replace('( ', '(')\n",
    "        \n",
    "    print(tv_script)"
   ]
  },
  {
   "cell_type": "markdown",
   "metadata": {},
   "source": [
    "# The TV Script is Nonsensical\n",
    "It's ok if the TV script doesn't make any sense.  We trained on less than a megabyte of text.  In order to get good results, you'll have to use a smaller vocabulary or get more data.  Luckly there's more data!  As we mentioned in the begging of this project, this is a subset of [another dataset](https://www.kaggle.com/wcukierski/the-simpsons-by-the-data).  We didn't have you train on all the data, because that would take too long.  However, you are free to train your neural network on all the data.  After you complete the project, of course.\n",
    "# Submitting This Project\n",
    "When submitting this project, make sure to run all the cells before saving the notebook. Save the notebook file as \"dlnd_tv_script_generation.ipynb\" and save it as a HTML file under \"File\" -> \"Download as\". Include the \"helper.py\" and \"problem_unittests.py\" files in your submission."
   ]
  }
 ],
 "metadata": {
  "kernelspec": {
   "display_name": "Python 3",
   "language": "python",
   "name": "python3"
  },
  "language_info": {
   "codemirror_mode": {
    "name": "ipython",
    "version": 3
   },
   "file_extension": ".py",
   "mimetype": "text/x-python",
   "name": "python",
   "nbconvert_exporter": "python",
   "pygments_lexer": "ipython3",
   "version": "3.6.1"
  },
  "widgets": {
   "state": {},
   "version": "1.1.2"
  }
 },
 "nbformat": 4,
 "nbformat_minor": 1
}
